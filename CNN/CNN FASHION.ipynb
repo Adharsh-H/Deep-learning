{
 "cells": [
  {
   "cell_type": "code",
   "execution_count": 16,
   "id": "7c43eb5e",
   "metadata": {},
   "outputs": [
    {
     "name": "stdout",
     "output_type": "stream",
     "text": [
      "shape of x_train (60000, 28, 28)\n",
      "shape of y_train (60000,)\n",
      "shape of x_test (10000, 28, 28)\n",
      "shape of y_test (10000,)\n"
     ]
    },
    {
     "data": {
      "text/plain": [
       "<matplotlib.image.AxesImage at 0x2090604ebe0>"
      ]
     },
     "execution_count": 16,
     "metadata": {},
     "output_type": "execute_result"
    },
    {
     "data": {
      "image/png": "[encoded data removed]",
      "text/plain": [
       "<Figure size 432x288 with 1 Axes>"
      ]
     },
     "metadata": {
      "needs_background": "light"
     },
     "output_type": "display_data"
    }
   ],
   "source": [
    "import tensorflow as tf\n",
    "from tensorflow import keras\n",
    "mnistDB=keras.datasets.fashion_mnist\n",
    "(x_train,y_train),(x_test,y_test)=mnistDB.load_data()\n",
    "print(\"shape of x_train\",x_train.shape)\n",
    "print(\"shape of y_train\",y_train.shape)\n",
    "print(\"shape of x_test\",x_test.shape)\n",
    "print(\"shape of y_test\",y_test.shape)\n",
    "import matplotlib.pyplot as plt\n",
    "plt.imshow(x_train[45],cmap='binary')\n",
    "\n"
   ]
  },
  {
   "cell_type": "code",
   "execution_count": 18,
   "id": "ca036d8e",
   "metadata": {},
   "outputs": [
    {
     "name": "stdout",
     "output_type": "stream",
     "text": [
      "Model: \"sequential_1\"\n",
      "_________________________________________________________________\n",
      " Layer (type)                Output Shape              Param #   \n",
      "=================================================================\n",
      " conv2d_2 (Conv2D)           (None, 26, 26, 32)        320       \n",
      "                                                                 \n",
      " conv2d_3 (Conv2D)           (None, 24, 24, 64)        18496     \n",
      "                                                                 \n",
      " max_pooling2d_1 (MaxPooling  (None, 12, 12, 64)       0         \n",
      " 2D)                                                             \n",
      "                                                                 \n",
      " dropout_2 (Dropout)         (None, 12, 12, 64)        0         \n",
      "                                                                 \n",
      " flatten_1 (Flatten)         (None, 9216)              0         \n",
      "                                                                 \n",
      " dense_2 (Dense)             (None, 128)               1179776   \n",
      "                                                                 \n",
      " dropout_3 (Dropout)         (None, 128)               0         \n",
      "                                                                 \n",
      " dense_3 (Dense)             (None, 10)                1290      \n",
      "                                                                 \n",
      "=================================================================\n",
      "Total params: 1,199,882\n",
      "Trainable params: 1,199,882\n",
      "Non-trainable params: 0\n",
      "_________________________________________________________________\n"
     ]
    }
   ],
   "source": [
    "x_train=x_train.reshape(60000,28,28,1)\n",
    "x_test=x_test.reshape(10000,28,28,1)\n",
    "x_train=x_train.astype('float32')/255\n",
    "x_test=x_test.astype('float32')/255\n",
    "cnn=keras.models.Sequential()\n",
    "cnn.add(keras.layers.Conv2D(32,(3,3),activation='relu',input_shape=x_train.shape[1:]))\n",
    "cnn.add(keras.layers.Conv2D(64,(3,3),activation='relu'))\n",
    "cnn.add(keras.layers.MaxPooling2D(2,2))\n",
    "cnn.add(keras.layers.Dropout(0.25))\n",
    "cnn.add(keras.layers.Flatten())\n",
    "cnn.add(keras.layers.Dense(128,activation='relu'))\n",
    "cnn.add(keras.layers.Dropout(0.25))\n",
    "cnn.add(keras.layers.Dense(10,activation='relu'))\n",
    "cnn.summary()"
   ]
  },
  {
   "cell_type": "code",
   "execution_count": 3,
   "id": "bb1c8950",
   "metadata": {},
   "outputs": [
    {
     "name": "stdout",
     "output_type": "stream",
     "text": [
      "3750/3750 [==============================] - 122s 32ms/step - loss: 2.3263 - accuracy: 0.1003\n",
      "313/313 [==============================] - 5s 15ms/step - loss: 2.3026 - accuracy: 0.1000\n",
      "2.30259108543396 0.10000000149011612\n"
     ]
    }
   ],
   "source": [
    "cnn.compile(loss='sparse_categorical_crossentropy',optimizer='adam',metrics=['accuracy'])\n",
    "cnn.fit(x_train,y_train,epochs=1,batch_size=16)\n",
    "test_loss,test_accuracy=cnn.evaluate(x_test,y_test)\n",
    "print(test_loss,test_accuracy)"
   ]
  },
  {
   "cell_type": "code",
   "execution_count": 19,
   "id": "9ec27103",
   "metadata": {},
   "outputs": [
    {
     "data": {
      "text/plain": [
       "\"from keras.preprocessing.image import load_img\\nfrom keras.preprocessing.image import img_to_array\\nfrom keras.models import load_model\\nimg = load_img('sample_image.png', grayscale = True, target_size = (28,28))\\nplt.imshow(img)\\nimg = img_to_array(img)\\nimg = img.reshape(1,28*28)\\nimg = img.astype('float32')/255.0\\ndigit = cnn.predict(img)\\n\\nprint(f'Digit is {digit[0]}')\""
      ]
     },
     "execution_count": 19,
     "metadata": {},
     "output_type": "execute_result"
    }
   ],
   "source": [
    "'''from keras.preprocessing.image import load_img\n",
    "from keras.preprocessing.image import img_to_array\n",
    "from keras.models import load_model\n",
    "img = load_img('sample_image.png', grayscale = True, target_size = (28,28))\n",
    "plt.imshow(img)\n",
    "img = img_to_array(img)\n",
    "img = img.reshape(1,28*28)\n",
    "img = img.astype('float32')/255.0\n",
    "digit = cnn.predict(img)\n",
    "\n",
    "print(f'Digit is {digit[0]}')'''"
   ]
  },
  {
   "cell_type": "code",
   "execution_count": null,
   "id": "6c68b9e5",
   "metadata": {},
   "outputs": [],
   "source": []
  },
  {
   "cell_type": "code",
   "execution_count": null,
   "id": "08a6f15d",
   "metadata": {},
   "outputs": [],
   "source": []
  }
 ],
 "metadata": {
  "kernelspec": {
   "display_name": "Python 3",
   "language": "python",
   "name": "python3"
  },
  "language_info": {
   "codemirror_mode": {
    "name": "ipython",
    "version": 3
   },
   "file_extension": ".py",
   "mimetype": "text/x-python",
   "name": "python",
   "nbconvert_exporter": "python",
   "pygments_lexer": "ipython3",
   "version": "3.8.8"
  }
 },
 "nbformat": 4,
 "nbformat_minor": 5
}
